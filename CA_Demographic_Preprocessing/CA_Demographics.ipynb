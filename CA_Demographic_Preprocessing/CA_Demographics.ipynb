{
 "cells": [
  {
   "cell_type": "code",
   "execution_count": 32,
   "id": "70757c1d",
   "metadata": {},
   "outputs": [],
   "source": [
    "import pandas as pd\n",
    "import numpy as np\n",
    "pd.set_option('display.max_columns', None)"
   ]
  },
  {
   "cell_type": "markdown",
   "id": "1bdfaafd",
   "metadata": {},
   "source": [
    "### Input"
   ]
  },
  {
   "cell_type": "code",
   "execution_count": 33,
   "id": "c0ab3bed",
   "metadata": {},
   "outputs": [],
   "source": [
    "df_in = pd.read_excel('2021-forecast-data-final-a11y.xlsm', None)\n",
    "\n",
    "### put the column name and county name in the list:\n",
    "index_list = ['Unnamed: 0', 'Population (people)', 'Real per capita income (dollars)', 'Total Wage & Salary', 'Farm', 'County'] \n",
    "county_list = list(df_in.keys())[:-1]\n",
    "emp_1000_list = ['Alameda', 'Butte', 'Contra Costa', 'El Dorado', 'Fresno', 'Humboldt', 'Imperial', 'Kern', 'Kings', 'Los Angeles', 'Madera', \n",
    "                 'Marin', 'Mendocino', 'Merced', 'Monterey', 'Napa', 'Nevada', 'Orange', 'Placer', 'Riverside', 'Sacramento', 'San Benito', \n",
    "                 'San Bernadino', 'San Francisco', 'San Diego', 'San Joaquin', 'San Luis Obispo', 'San Mateo', 'Santa Barbara', 'Santa Clara', \n",
    "                 'Santa Cruz', 'Shasta', 'Solano', 'Sonoma', 'Stanislaus', 'Sutter', 'Tulare', 'Ventura', 'Yolo']\n",
    "\n",
    "### add Farm column\n",
    "no_farm_list = ['Alpine']"
   ]
  },
  {
   "cell_type": "markdown",
   "id": "ca130c52",
   "metadata": {},
   "source": [
    "### Filter out unused columns and combine to one dataframe"
   ]
  },
  {
   "cell_type": "code",
   "execution_count": 34,
   "id": "19fbe00d",
   "metadata": {},
   "outputs": [],
   "source": [
    "df = pd.DataFrame(columns = index_list)\n",
    "for county in county_list:\n",
    "    df_county = df_in[county].iloc[1:, :].assign(County = county)\n",
    "    df = pd.concat([df, df_county], join='inner')"
   ]
  },
  {
   "cell_type": "code",
   "execution_count": 35,
   "id": "9e2a1514",
   "metadata": {},
   "outputs": [],
   "source": [
    "df.columns = ['Year', 'Population', 'Per Capita Income', 'Employment', 'Farm', 'County']\n",
    "df['Non-Farm Employment'] = df.Employment - df.Farm\n",
    "# Should be 2958 rows and 7 columns"
   ]
  },
  {
   "cell_type": "markdown",
   "id": "a42d7846",
   "metadata": {},
   "source": [
    "### Split"
   ]
  },
  {
   "cell_type": "code",
   "execution_count": 36,
   "id": "02dedc24",
   "metadata": {},
   "outputs": [],
   "source": [
    "df_pop = df.pivot(index = 'Year', columns ='County', values = 'Population')\n",
    "df_inc = df.pivot(index = 'Year', columns ='County', values = 'Per Capita Income')\n",
    "df_emp = df.pivot(index = 'Year', columns ='County', values = 'Non-Farm Employment')\n",
    "# unit difference!\n",
    "df_emp[emp_1000_list] = df_emp[emp_1000_list] * 1000"
   ]
  },
  {
   "cell_type": "markdown",
   "id": "8f996941",
   "metadata": {},
   "source": [
    "### Output"
   ]
  },
  {
   "cell_type": "code",
   "execution_count": 37,
   "id": "060df8da",
   "metadata": {},
   "outputs": [],
   "source": [
    "with pd.ExcelWriter('California_Demographic_2021.xlsx') as writer:  \n",
    "    df_pop.to_excel(writer, sheet_name='Population')\n",
    "    df_inc.to_excel(writer, sheet_name='Per Capita Income')\n",
    "    df_emp.to_excel(writer, sheet_name='Non-Farm Employment')"
   ]
  }
 ],
 "metadata": {
  "kernelspec": {
   "display_name": "Python 3 (ipykernel)",
   "language": "python",
   "name": "python3"
  },
  "language_info": {
   "codemirror_mode": {
    "name": "ipython",
    "version": 3
   },
   "file_extension": ".py",
   "mimetype": "text/x-python",
   "name": "python",
   "nbconvert_exporter": "python",
   "pygments_lexer": "ipython3",
   "version": "3.9.7"
  }
 },
 "nbformat": 4,
 "nbformat_minor": 5
}
