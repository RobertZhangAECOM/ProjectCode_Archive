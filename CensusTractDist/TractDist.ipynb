{
 "cells": [
  {
   "cell_type": "code",
   "execution_count": 268,
   "id": "306b3670",
   "metadata": {},
   "outputs": [],
   "source": [
    "import pandas as pd"
   ]
  },
  {
   "cell_type": "code",
   "execution_count": 269,
   "id": "f4810c58",
   "metadata": {},
   "outputs": [
    {
     "data": {
      "text/plain": [
       "(7753440, 6)"
      ]
     },
     "execution_count": 269,
     "metadata": {},
     "output_type": "execute_result"
    }
   ],
   "source": [
    "df_2020Jan_Trends = pd.read_csv('Trends_2020Jan_Fullweek_Tracts.txt')\n",
    "df_2020Feb_Trends = pd.read_csv('Trends_2020Feb_Fullweek_Tracts.txt')\n",
    "df_2022Feb_Trends = pd.read_csv('Trends_2022Feb_Fullweek_Tracts.txt')\n",
    "df_2022Mar_Trends = pd.read_csv('Trends_2022Mar_Fullweek_Tracts.txt')\n",
    "df_CensusTract = pd.read_csv('CensusTract_Cascade.txt')\n",
    "df_TractDist = pd.read_csv('TractDistance.txt')\n",
    "df_TractDist.shape"
   ]
  },
  {
   "cell_type": "code",
   "execution_count": 270,
   "id": "3362d43d",
   "metadata": {},
   "outputs": [],
   "source": [
    "df_2020Jan_Trends = df_2020Jan_Trends[df_2020Jan_Trends.destination_fips != \"aggregated_low_volumes\"]\n",
    "df_2020Feb_Trends = df_2020Feb_Trends[df_2020Feb_Trends.destination_fips != \"aggregated_low_volumes\"]\n",
    "df_2022Feb_Trends = df_2022Feb_Trends[df_2022Feb_Trends.destination_fips != \"aggregated_low_volumes\"]\n",
    "df_2022Mar_Trends = df_2022Mar_Trends[df_2022Mar_Trends.destination_fips != \"aggregated_low_volumes\"]"
   ]
  },
  {
   "cell_type": "code",
   "execution_count": 271,
   "id": "9164496c",
   "metadata": {},
   "outputs": [],
   "source": [
    "df_2020Jan_Trends.destination_fips = df_2020Jan_Trends.destination_fips.astype('int64')\n",
    "df_2020Feb_Trends.destination_fips = df_2020Feb_Trends.destination_fips.astype('int64')\n",
    "df_2022Feb_Trends.destination_fips = df_2022Feb_Trends.destination_fips.astype('int64')\n",
    "df_2022Mar_Trends.destination_fips = df_2022Mar_Trends.destination_fips.astype('int64')"
   ]
  },
  {
   "cell_type": "code",
   "execution_count": 272,
   "id": "fbe26c16",
   "metadata": {},
   "outputs": [],
   "source": [
    "df_2020Jan_Trends_ORI = df_2020Jan_Trends.merge(df_CensusTract[['FID','GEOID']], left_on = \"origin_fips\", right_on = \"GEOID\")\n",
    "df_2020Jan_Trends_DEST = df_2020Jan_Trends_ORI.merge(df_CensusTract[['FID','GEOID']], left_on = \"destination_fips\", right_on = \"GEOID\")\n",
    "\n",
    "df_2020Feb_Trends_ORI = df_2020Feb_Trends.merge(df_CensusTract[['FID','GEOID']], left_on = \"origin_fips\", right_on = \"GEOID\")\n",
    "df_2020Feb_Trends_DEST = df_2020Feb_Trends_ORI.merge(df_CensusTract[['FID','GEOID']], left_on = \"destination_fips\", right_on = \"GEOID\")\n",
    "\n",
    "df_2022Feb_Trends_ORI = df_2022Feb_Trends.merge(df_CensusTract[['FID','GEOID']], left_on = \"origin_fips\", right_on = \"GEOID\")\n",
    "df_2022Feb_Trends_DEST = df_2022Feb_Trends_ORI.merge(df_CensusTract[['FID','GEOID']], left_on = \"destination_fips\", right_on = \"GEOID\")\n",
    "\n",
    "df_2022Mar_Trends_ORI = df_2022Mar_Trends.merge(df_CensusTract[['FID','GEOID']], left_on = \"origin_fips\", right_on = \"GEOID\")\n",
    "df_2022Mar_Trends_DEST = df_2022Mar_Trends_ORI.merge(df_CensusTract[['FID','GEOID']], left_on = \"destination_fips\", right_on = \"GEOID\")"
   ]
  },
  {
   "cell_type": "code",
   "execution_count": 273,
   "id": "86d7f300",
   "metadata": {},
   "outputs": [],
   "source": [
    "df_2020Jan_Trends = df_2020Jan_Trends_DEST.merge(df_TractDist[['IN_FID','NEAR_FID','NEAR_DIST']], left_on = ['FID_x', 'FID_y'], right_on = ['IN_FID', 'NEAR_FID'])\n",
    "df_2020Feb_Trends = df_2020Feb_Trends_DEST.merge(df_TractDist[['IN_FID','NEAR_FID','NEAR_DIST']], left_on = ['FID_x', 'FID_y'], right_on = ['IN_FID', 'NEAR_FID'])\n",
    "df_2022Feb_Trends = df_2022Feb_Trends_DEST.merge(df_TractDist[['IN_FID','NEAR_FID','NEAR_DIST']], left_on = ['FID_x', 'FID_y'], right_on = ['IN_FID', 'NEAR_FID'])\n",
    "df_2022Mar_Trends = df_2022Mar_Trends_DEST.merge(df_TractDist[['IN_FID','NEAR_FID','NEAR_DIST']], left_on = ['FID_x', 'FID_y'], right_on = ['IN_FID', 'NEAR_FID'])"
   ]
  },
  {
   "cell_type": "code",
   "execution_count": 274,
   "id": "1e465f71",
   "metadata": {},
   "outputs": [],
   "source": [
    "df_2020Jan_Trends = df_2020Jan_Trends.groupby(['origin_fips', 'destination_fips', 'origin_name', 'destination_name', 'week_starting', 'population', 'NEAR_DIST'], as_index = False).start_hour_trips_count_typical_fullweek.sum()\n",
    "df_2020Feb_Trends = df_2020Feb_Trends.groupby(['origin_fips', 'destination_fips', 'origin_name', 'destination_name', 'week_starting', 'population', 'NEAR_DIST'], as_index = False).start_hour_trips_count_typical_fullweek.sum()\n",
    "df_2022Feb_Trends = df_2022Feb_Trends.groupby(['origin_fips', 'destination_fips', 'origin_name', 'destination_name', 'week_starting', 'population', 'NEAR_DIST'], as_index = False).start_hour_trips_count_typical_fullweek.sum()\n",
    "df_2022Mar_Trends = df_2022Mar_Trends.groupby(['origin_fips', 'destination_fips', 'origin_name', 'destination_name', 'week_starting', 'population', 'NEAR_DIST'], as_index = False).start_hour_trips_count_typical_fullweek.sum()"
   ]
  },
  {
   "cell_type": "code",
   "execution_count": 275,
   "id": "d8c5b3fe",
   "metadata": {},
   "outputs": [],
   "source": [
    "df_2020Jan_Trends.to_csv(\"TractDist_2020Jan_Trends.csv\", index = False)\n",
    "df_2020Feb_Trends.to_csv(\"TractDist_2020Feb_Trends.csv\", index = False)\n",
    "df_2022Feb_Trends.to_csv(\"TractDist_2022Feb_Trends.csv\", index = False)\n",
    "df_2022Mar_Trends.to_csv(\"TractDist_2022Mar_Trends.csv\", index = False)"
   ]
  },
  {
   "cell_type": "code",
   "execution_count": null,
   "id": "afd271d5",
   "metadata": {},
   "outputs": [],
   "source": []
  }
 ],
 "metadata": {
  "kernelspec": {
   "display_name": "Python 3 (ipykernel)",
   "language": "python",
   "name": "python3"
  },
  "language_info": {
   "codemirror_mode": {
    "name": "ipython",
    "version": 3
   },
   "file_extension": ".py",
   "mimetype": "text/x-python",
   "name": "python",
   "nbconvert_exporter": "python",
   "pygments_lexer": "ipython3",
   "version": "3.9.7"
  }
 },
 "nbformat": 4,
 "nbformat_minor": 5
}
