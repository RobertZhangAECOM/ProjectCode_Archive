{
 "cells": [
  {
   "cell_type": "code",
   "execution_count": 9,
   "id": "ddef1c76",
   "metadata": {},
   "outputs": [],
   "source": [
    "import os\n",
    "from selenium import webdriver\n",
    "from selenium.webdriver.common.keys import Keys\n",
    "from selenium.webdriver.common.by import By\n",
    "from selenium.webdriver.support.ui import WebDriverWait\n",
    "from selenium.webdriver.support import expected_conditions as EC"
   ]
  },
  {
   "cell_type": "code",
   "execution_count": 10,
   "id": "fd693f62",
   "metadata": {},
   "outputs": [],
   "source": [
    "# os.environ['PATH'] += r\"C:\\A_Programs\\ProjectCode\\DataScrapingTutorial\\FreeCodeCamp\\Selenium\"\n",
    "# driver = webdriver.Chrome()\n",
    "# driver.get('https://demo.seleniumeasy.com/jquery-download-progress-bar-demo.html')\n",
    "# driver.implicitly_wait(3)\n",
    "# my_element = driver.find_element(By.ID, 'downloadButton')\n",
    "# my_element.click()\n",
    "\n",
    "# # progress_element = driver.find_element(By.CLASS_NAME, 'progress-label')\n",
    "# # print(f'{progress_element.text == 'Completed!'}')\n",
    "\n",
    "# WebDriverWait(driver, 30).until(\n",
    "#     EC.text_to_be_present_in_element(\n",
    "#         (By.CLASS_NAME, 'progress-label'), # Element Filteration\n",
    "#         'Complete!'# The expected text\n",
    "#     )\n",
    "# )"
   ]
  },
  {
   "cell_type": "code",
   "execution_count": 11,
   "id": "b082b159",
   "metadata": {},
   "outputs": [],
   "source": [
    "# os.environ['PATH'] += r\"C:\\A_Programs\\ProjectCode\\DataScrapingTutorial\\FreeCodeCamp\\Selenium\"\n",
    "# driver = webdriver.Chrome()\n",
    "\n",
    "# driver.get('https://demo.seleniumeasy.com/basic-first-form-demo.html')\n",
    "# driver.implicitly_wait(5)\n",
    "# sum1 = driver.find_element(By.ID, 'sum1')\n",
    "# sum2 = driver.find_element(By.ID, 'sum2')\n",
    "# try:\n",
    "#     no_button = driver.find_element(By.CLASS_NAME, 'at-cm-no-button')\n",
    "#     no_button.click()\n",
    "# except:\n",
    "#     print('No element with this class name. Skipping...')\n",
    "    \n",
    "# sum1.send_keys(Keys.NUMPAD1, Keys.NUMPAD5)\n",
    "# sum2.send_keys(15)\n",
    "\n",
    "# btn = driver.find_element(By.CSS_SELECTOR, 'button[onclick=\"return total()\"]')\n",
    "# btn.click() # Source: https://www.w3schools.com/cssref/css_selectors.asp"
   ]
  },
  {
   "cell_type": "code",
   "execution_count": null,
   "id": "fcf2d883",
   "metadata": {},
   "outputs": [],
   "source": []
  }
 ],
 "metadata": {
  "kernelspec": {
   "display_name": "Python 3 (ipykernel)",
   "language": "python",
   "name": "python3"
  },
  "language_info": {
   "codemirror_mode": {
    "name": "ipython",
    "version": 3
   },
   "file_extension": ".py",
   "mimetype": "text/x-python",
   "name": "python",
   "nbconvert_exporter": "python",
   "pygments_lexer": "ipython3",
   "version": "3.9.7"
  }
 },
 "nbformat": 4,
 "nbformat_minor": 5
}
