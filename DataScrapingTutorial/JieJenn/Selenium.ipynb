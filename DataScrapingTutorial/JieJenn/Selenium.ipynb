{
 "cells": [
  {
   "cell_type": "code",
   "execution_count": 27,
   "id": "87262ca5",
   "metadata": {},
   "outputs": [],
   "source": [
    "import pandas\n",
    "import time\n",
    "from selenium import webdriver\n",
    "from selenium.webdriver.support.ui import WebDriverWait\n",
    "from selenium.webdriver.common.by import By\n",
    "from selenium.webdriver.support import expected_conditions as EC\n",
    "from selenium.common.exceptions import TimeoutException\n",
    "from bs4 import BeautifulSoup"
   ]
  },
  {
   "cell_type": "code",
   "execution_count": 28,
   "id": "eb94a3db",
   "metadata": {},
   "outputs": [],
   "source": [
    "sort_by_type = 'newest'\n",
    "\n",
    "chrome_driver_path = 'chromedriver.exe'\n",
    "delay = 15\n",
    "\n",
    "driver = webdriver.Chrome()\n",
    "\n",
    "\n",
    "def extract_text(soup_obj, tag, attribute_name, attribute_value);\n",
    "    txt = soup_obj.find(tag, {attribute_name: attribute_value}).text().strip()\n",
    "        if soup_obj.find(tag, {attribute_name: attribute_value}) \n",
    "            else ''\n",
    "    return txt\n",
    "\n",
    "for page_number in range(1, 12):\n",
    "    page_url = f'https://www.udemy.com/courses/free/?lang=en&p={page_number}&sort=newest'\n",
    "    driver.get(page_url)\n",
    "    time.sleep(5)\n",
    "    try:\n",
    "        WebDriverWait(driver, delay).until(EC.presence_of_element_located((By.CLASS_NAME, \"origin-input\")))\n",
    "    except TimeoutException:\n",
    "        print('Loading exceeds delay time')\n",
    "        break\n",
    "    else:    \n",
    "        \n",
    "#         with open('page_markup.html', 'w', encoding = 'utf-8') as file:\n",
    "#             file.write(driver.page_source)\n",
    "\n",
    "driver.quit()\n",
    "\n",
    "\n"
   ]
  },
  {
   "cell_type": "code",
   "execution_count": null,
   "id": "9d7125ad",
   "metadata": {},
   "outputs": [],
   "source": []
  }
 ],
 "metadata": {
  "kernelspec": {
   "display_name": "Python 3 (ipykernel)",
   "language": "python",
   "name": "python3"
  },
  "language_info": {
   "codemirror_mode": {
    "name": "ipython",
    "version": 3
   },
   "file_extension": ".py",
   "mimetype": "text/x-python",
   "name": "python",
   "nbconvert_exporter": "python",
   "pygments_lexer": "ipython3",
   "version": "3.9.7"
  }
 },
 "nbformat": 4,
 "nbformat_minor": 5
}
