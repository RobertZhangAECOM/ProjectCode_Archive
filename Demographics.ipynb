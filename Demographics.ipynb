{
 "cells": [
  {
   "cell_type": "code",
   "execution_count": 1,
   "id": "746594ef",
   "metadata": {},
   "outputs": [],
   "source": [
    "import pandas as pd\n",
    "pd.set_option('display.max_rows', None)\n",
    "df_countylist_input = pd.read_csv('County_List.csv')"
   ]
  },
  {
   "cell_type": "markdown",
   "id": "0f943cf3",
   "metadata": {},
   "source": [
    "### 1. ASC Base Year Population"
   ]
  },
  {
   "cell_type": "code",
   "execution_count": 2,
   "id": "888a9242",
   "metadata": {},
   "outputs": [],
   "source": [
    "df_pop_2019_county_input = pd.read_csv('Input_2019pop_allcounty_ASC.csv', encoding='Latin-1')"
   ]
  },
  {
   "cell_type": "code",
   "execution_count": 3,
   "id": "b0e42af9",
   "metadata": {},
   "outputs": [],
   "source": [
    "df_pop_2019_county = pd.merge(df_pop_2019_county_input, df_countylist_input, left_on = ['STNAME','CTYNAME'], right_on = ['StateCompleteName', 'NAMELSAD'])\n",
    "df_pop_2019_county = df_pop_2019_county[['ZoneID','STNAME','CTYNAME','POPESTIMATE2019']]"
   ]
  },
  {
   "cell_type": "code",
   "execution_count": 4,
   "id": "ef83dcd2",
   "metadata": {},
   "outputs": [],
   "source": [
    "df_pop_2019_county.to_csv('Output_2019pop_WisDOT_ASC.csv')"
   ]
  },
  {
   "cell_type": "markdown",
   "id": "e415645a",
   "metadata": {},
   "source": [
    "### 2. BEA Base Year Population/Employment/Income"
   ]
  },
  {
   "cell_type": "code",
   "execution_count": 5,
   "id": "5b118bdf",
   "metadata": {},
   "outputs": [],
   "source": [
    "df_emp_2019_county_input = pd.read_csv('Input_CAINC4__ALL_AREAS_1969_2020.csv', encoding='Latin-1', low_memory=False)"
   ]
  },
  {
   "cell_type": "code",
   "execution_count": 6,
   "id": "33dd71fd",
   "metadata": {},
   "outputs": [],
   "source": [
    "df_emp_2019_county_filter = df_emp_2019_county_input.loc[df_emp_2019_county_input['LineCode'].isin([20, 30, 7010])]\n",
    "df_emp_2019_county_filter = df_emp_2019_county_filter[['GeoName', 'LineCode', 'Description', 'Unit', '2019']]\n",
    "df_emp_2019_county_filter.GeoName = df_emp_2019_county_filter.GeoName.str.replace('*', '', regex=True) # CAUTION!"
   ]
  },
  {
   "cell_type": "code",
   "execution_count": 7,
   "id": "6e90b446",
   "metadata": {},
   "outputs": [],
   "source": [
    "df_emp_2019_county = pd.merge(df_emp_2019_county_filter, df_countylist_input, left_on = 'GeoName', right_on = 'BEAName')\n",
    "df_emp_2019_county = df_emp_2019_county[['ZoneID','GeoName', 'LineCode', 'Description', 'Unit', '2019']]"
   ]
  },
  {
   "cell_type": "code",
   "execution_count": 8,
   "id": "5c4f2161",
   "metadata": {},
   "outputs": [],
   "source": [
    "df_emp_2019_county_popout = df_emp_2019_county.loc[df_emp_2019_county.LineCode==20]\n",
    "df_emp_2019_county_incout = df_emp_2019_county.loc[df_emp_2019_county.LineCode==30]\n",
    "df_emp_2019_county_empout = df_emp_2019_county.loc[df_emp_2019_county.LineCode==7010]"
   ]
  },
  {
   "cell_type": "code",
   "execution_count": 9,
   "id": "ede306c6",
   "metadata": {},
   "outputs": [],
   "source": [
    "df_emp_2019_county_empout.to_csv('Output_2019emp_WisDOT_BEA.csv')\n",
    "df_emp_2019_county_popout.to_csv('Output_2019pop_WisDOT_BEA.csv')\n",
    "df_emp_2019_county_incout.to_csv('Output_2019inc_WisDOT_BEA.csv')"
   ]
  },
  {
   "cell_type": "markdown",
   "id": "977f6d55",
   "metadata": {},
   "source": [
    "### 3. Future Year (2025 Population) - Should be edited based on different sources"
   ]
  },
  {
   "cell_type": "code",
   "execution_count": null,
   "id": "64053b0c",
   "metadata": {},
   "outputs": [],
   "source": [
    "df_pop_2035_Chicago_county_input = pd.read_csv('Input_2035pop_Chicago_County.csv')\n",
    "df_pop_2035_Indiana_county_input = pd.read_csv('Input_2035pop_Indiana_County.csv')\n",
    "df_pop_2035_Minnesota_county_input = pd.read_csv('Input_2035pop_Minnesota_County.csv')\n",
    "df_pop_2035_Michigan_county_input = pd.read_csv('Input_2035pop_Michigan_County.csv') # Delete the first row to avoid parse error \n",
    "df_pop_2035_Wisconsin_county_input = pd.read_csv('Input_2035pop_Wisconsin_County.csv')"
   ]
  },
  {
   "cell_type": "code",
   "execution_count": null,
   "id": "e4592ef9",
   "metadata": {},
   "outputs": [],
   "source": [
    "df_pop_2035_Chicago_county = df_pop_2035_Chicago_county_input[['Head', '2035']]\n",
    "df_pop_2035_Chicago_county = df_pop_2035_Chicago_county.assign(Fullname = df_pop_2035_Chicago_county.Head.astype(str) + ', IL')\n",
    "df_pop_2035_Chicago_county = df_pop_2035_Chicago_county.drop([0, 8, 9, 10, 11, 12]).rename(columns={'Head': 'County', '2035' : '2035pop'}).reset_index(drop=True)"
   ]
  },
  {
   "cell_type": "code",
   "execution_count": null,
   "id": "818ab0fa",
   "metadata": {},
   "outputs": [],
   "source": [
    "df_pop_2035_Indiana_county = df_pop_2035_Indiana_county_input.iloc[:, 0:2]\n",
    "df_pop_2035_Indiana_county = df_pop_2035_Indiana_county.drop(0).rename(columns={'Unnamed: 0': 'County', 'Unnamed: 1': '2035pop'})\n",
    "df_pop_2035_Indiana_county = df_pop_2035_Indiana_county.assign(Fullname = df_pop_2035_Indiana_county.County.astype(str) + ', IN').reset_index(drop=True)"
   ]
  },
  {
   "cell_type": "code",
   "execution_count": null,
   "id": "e02e6b2a",
   "metadata": {},
   "outputs": [],
   "source": [
    "df_pop_2035_Minnesota_county = df_pop_2035_Minnesota_county_input.loc[(df_pop_2035_Minnesota_county_input.year == 2035) & (df_pop_2035_Minnesota_county_input.geo_type > 2)]\n",
    "df_pop_2035_Minnesota_county = df_pop_2035_Minnesota_county[['geo_id', '999']].rename(columns={'geo_id': 'County', '999': '2035pop'})\n",
    "df_pop_2035_Minnesota_county = df_pop_2035_Minnesota_county.assign(Fullname = df_pop_2035_Minnesota_county.County.astype(str) + ' County, MN').reset_index(drop=True)"
   ]
  },
  {
   "cell_type": "code",
   "execution_count": null,
   "id": "b08b3f04",
   "metadata": {},
   "outputs": [],
   "source": [
    "df_pop_2035_Michigan_county = df_pop_2035_Michigan_county_input[['Area', '2035']]\n",
    "df_pop_2035_Michigan_county = df_pop_2035_Michigan_county.rename(columns={'Area': 'Fullname', '2035': '2035pop'}).reset_index(drop=True)\n",
    "df_pop_2035_Michigan_county = df_pop_2035_Michigan_county.assign(County = df_pop_2035_Michigan_county.Fullname.str[:-4])"
   ]
  },
  {
   "cell_type": "code",
   "execution_count": null,
   "id": "8d0b081d",
   "metadata": {},
   "outputs": [],
   "source": [
    "df_pop_2035_Wisconsin_county_input.columns = df_pop_2035_Wisconsin_county_input.iloc[1]\n",
    "df_pop_2035_Wisconsin_county = df_pop_2035_Wisconsin_county_input[['County Name', 'PopAll 2035']].drop([0, 1])\n",
    "df_pop_2035_Wisconsin_county = df_pop_2035_Wisconsin_county.assign(Fullname = df_pop_2035_Wisconsin_county[['County Name']].astype(str) + 'County, WI')\n",
    "df_pop_2035_Wisconsin_county = df_pop_2035_Wisconsin_county.assign(Fullname = df_pop_2035_Wisconsin_county.Fullname.str[1:])\n",
    "df_pop_2035_Wisconsin_county = df_pop_2035_Wisconsin_county.rename(columns={'County Name': 'County', 'PopAll 2035': '2035pop'}).reset_index(drop=True)"
   ]
  },
  {
   "cell_type": "code",
   "execution_count": null,
   "id": "2b7d4cc8",
   "metadata": {},
   "outputs": [],
   "source": [
    "df_pop_2035_county_input = pd.concat([df_pop_2035_Chicago_county, df_pop_2035_Indiana_county, df_pop_2035_Minnesota_county, df_pop_2035_Michigan_county, df_pop_2035_Wisconsin_county], ignore_index=True)\n",
    "df_pop_2035_county_input.Fullname = df_pop_2035_county_input.Fullname.str.replace('Saint', 'St.', regex=True) # CAUTION!\n",
    "df_pop_2035_county = pd.merge(df_pop_2035_county_input, df_countylist_input, on = 'Fullname')\n",
    "df_pop_2035_county = df_pop_2035_county[['ZoneID','Fullname','2035pop']]\n",
    "df_pop_2035_county.to_csv('Output_2035pop_WisDOT.csv')"
   ]
  },
  {
   "cell_type": "markdown",
   "id": "0ec66952",
   "metadata": {},
   "source": [
    "### 4. Future Year (2035 Population) - Should be edited based on different sources"
   ]
  },
  {
   "cell_type": "code",
   "execution_count": 10,
   "id": "298bd61d",
   "metadata": {},
   "outputs": [],
   "source": [
    "df_pop_2035_Chicago_county_input = pd.read_csv('Input_2035pop_Chicago_County.csv')\n",
    "df_pop_2035_Indiana_county_input = pd.read_csv('Input_2035pop_Indiana_County.csv')\n",
    "df_pop_2035_Minnesota_county_input = pd.read_csv('Input_2035pop_Minnesota_County.csv')\n",
    "df_pop_2035_Michigan_county_input = pd.read_csv('Input_2035pop_Michigan_County.csv') # Delete the first row to avoid parse error \n",
    "df_pop_2035_Wisconsin_county_input = pd.read_csv('Input_2035pop_Wisconsin_County.csv')"
   ]
  },
  {
   "cell_type": "code",
   "execution_count": 11,
   "id": "4e7224ca",
   "metadata": {},
   "outputs": [],
   "source": [
    "df_pop_2035_Chicago_county = df_pop_2035_Chicago_county_input[['Head', '2035']]\n",
    "df_pop_2035_Chicago_county = df_pop_2035_Chicago_county.assign(Fullname = df_pop_2035_Chicago_county.Head.astype(str) + ', IL')\n",
    "df_pop_2035_Chicago_county = df_pop_2035_Chicago_county.drop([0, 8, 9, 10, 11, 12]).rename(columns={'Head': 'County', '2035' : '2035pop'}).reset_index(drop=True)"
   ]
  },
  {
   "cell_type": "code",
   "execution_count": 12,
   "id": "f7cd9be7",
   "metadata": {},
   "outputs": [],
   "source": [
    "df_pop_2035_Indiana_county = df_pop_2035_Indiana_county_input.iloc[:, 0:2]\n",
    "df_pop_2035_Indiana_county = df_pop_2035_Indiana_county.drop(0).rename(columns={'Unnamed: 0': 'County', 'Unnamed: 1': '2035pop'})\n",
    "df_pop_2035_Indiana_county = df_pop_2035_Indiana_county.assign(Fullname = df_pop_2035_Indiana_county.County.astype(str) + ', IN').reset_index(drop=True)"
   ]
  },
  {
   "cell_type": "code",
   "execution_count": 13,
   "id": "9dc45115",
   "metadata": {},
   "outputs": [],
   "source": [
    "df_pop_2035_Minnesota_county = df_pop_2035_Minnesota_county_input.loc[(df_pop_2035_Minnesota_county_input.year == 2035) & (df_pop_2035_Minnesota_county_input.geo_type > 2)]\n",
    "df_pop_2035_Minnesota_county = df_pop_2035_Minnesota_county[['geo_id', '999']].rename(columns={'geo_id': 'County', '999': '2035pop'})\n",
    "df_pop_2035_Minnesota_county = df_pop_2035_Minnesota_county.assign(Fullname = df_pop_2035_Minnesota_county.County.astype(str) + ' County, MN').reset_index(drop=True)"
   ]
  },
  {
   "cell_type": "code",
   "execution_count": 14,
   "id": "2f01d6fe",
   "metadata": {},
   "outputs": [],
   "source": [
    "df_pop_2035_Michigan_county = df_pop_2035_Michigan_county_input[['Area', '2035']]\n",
    "df_pop_2035_Michigan_county = df_pop_2035_Michigan_county.rename(columns={'Area': 'Fullname', '2035': '2035pop'}).reset_index(drop=True)\n",
    "df_pop_2035_Michigan_county = df_pop_2035_Michigan_county.assign(County = df_pop_2035_Michigan_county.Fullname.str[:-4])"
   ]
  },
  {
   "cell_type": "code",
   "execution_count": 15,
   "id": "183936f5",
   "metadata": {},
   "outputs": [],
   "source": [
    "df_pop_2035_Wisconsin_county_input.columns = df_pop_2035_Wisconsin_county_input.iloc[1]\n",
    "df_pop_2035_Wisconsin_county = df_pop_2035_Wisconsin_county_input[['County Name', 'PopAll 2035']].drop([0, 1])\n",
    "df_pop_2035_Wisconsin_county = df_pop_2035_Wisconsin_county.assign(Fullname = df_pop_2035_Wisconsin_county[['County Name']].astype(str) + 'County, WI')\n",
    "df_pop_2035_Wisconsin_county = df_pop_2035_Wisconsin_county.assign(Fullname = df_pop_2035_Wisconsin_county.Fullname.str[1:])\n",
    "df_pop_2035_Wisconsin_county = df_pop_2035_Wisconsin_county.rename(columns={'County Name': 'County', 'PopAll 2035': '2035pop'}).reset_index(drop=True)"
   ]
  },
  {
   "cell_type": "code",
   "execution_count": 16,
   "id": "98ca3d62",
   "metadata": {},
   "outputs": [],
   "source": [
    "df_pop_2035_county_input = pd.concat([df_pop_2035_Chicago_county, df_pop_2035_Indiana_county, df_pop_2035_Minnesota_county, df_pop_2035_Michigan_county, df_pop_2035_Wisconsin_county], ignore_index=True)\n",
    "df_pop_2035_county_input.Fullname = df_pop_2035_county_input.Fullname.str.replace('Saint', 'St.', regex=True) # CAUTION!\n",
    "df_pop_2035_county = pd.merge(df_pop_2035_county_input, df_countylist_input, on = 'Fullname')\n",
    "df_pop_2035_county = df_pop_2035_county[['ZoneID','Fullname','2035pop']]\n",
    "df_pop_2035_county.to_csv('Output_2035pop_WisDOT.csv')"
   ]
  },
  {
   "cell_type": "code",
   "execution_count": null,
   "id": "ef290920",
   "metadata": {},
   "outputs": [],
   "source": []
  }
 ],
 "metadata": {
  "kernelspec": {
   "display_name": "Python 3 (ipykernel)",
   "language": "python",
   "name": "python3"
  },
  "language_info": {
   "codemirror_mode": {
    "name": "ipython",
    "version": 3
   },
   "file_extension": ".py",
   "mimetype": "text/x-python",
   "name": "python",
   "nbconvert_exporter": "python",
   "pygments_lexer": "ipython3",
   "version": "3.9.7"
  }
 },
 "nbformat": 4,
 "nbformat_minor": 5
}
