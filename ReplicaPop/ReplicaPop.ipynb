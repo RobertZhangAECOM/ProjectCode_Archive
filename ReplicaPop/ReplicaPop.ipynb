{
 "cells": [
  {
   "cell_type": "code",
   "execution_count": 1,
   "id": "314493dc",
   "metadata": {},
   "outputs": [],
   "source": [
    "import pandas as pd"
   ]
  },
  {
   "cell_type": "code",
   "execution_count": 3,
   "id": "7da89cf3",
   "metadata": {},
   "outputs": [],
   "source": [
    "name = 'thursday_sep2019-nov2019'\n",
    "\n",
    "df = pd.read_csv(f'C:\\\\Users\\\\zhangr2\\\\OneDrive - AECOM\\\\Desktop\\\\AECOM\\\\A_Projects\\\\Amtrak_Cascades_Service_Development_Plan\\\\Literature Review\\\\LandUse\\\\Source\\\\population_{name}_northwest_58filters_created07-28-2022.csv', low_memory=False)\n",
    "\n",
    "# df_Home = df.groupby(by=\"BLOCKGROUP_home\").count().reset_index()[['BLOCKGROUP_home', 'person_id']]\n",
    "# df_Home.rename(columns={'BLOCKGROUP_home': 'FIPS', 'person_id': 'Home_Pop'}, inplace=True)\n"
   ]
  },
  {
   "cell_type": "code",
   "execution_count": 5,
   "id": "19ca50e9",
   "metadata": {},
   "outputs": [
    {
     "data": {
      "text/plain": [
       "False"
      ]
     },
     "execution_count": 5,
     "metadata": {},
     "output_type": "execute_result"
    }
   ],
   "source": [
    "df['person_id'].duplicated().any()"
   ]
  },
  {
   "cell_type": "code",
   "execution_count": 30,
   "id": "3806ee01",
   "metadata": {},
   "outputs": [],
   "source": [
    "name_list = ['thursday_sep2019-nov2019', 'thursday_mar2021-may2021', 'saturday_sep2019-nov2019', 'saturday_mar2021-may2021']\n",
    "\n",
    "for name in name_list:\n",
    "    \n",
    "    # change the file name every time\n",
    "    df = pd.read_csv(f'C:\\\\Users\\\\zhangr2\\\\OneDrive - AECOM\\\\Desktop\\\\AECOM\\\\A_Projects\\\\Amtrak_Cascades_Service_Development_Plan\\\\Literature Review\\\\LandUse\\\\Source\\\\population_{name}_northwest_58filters_created07-28-2022.csv', low_memory=False)\n",
    "    \n",
    "    df_Work = df.groupby(by=\"BLOCKGROUP_work\").count().reset_index()[['BLOCKGROUP_work', 'person_id']]\n",
    "    df_Work.rename(columns={'BLOCKGROUP_work': 'FIPS', 'person_id': 'Work_Pop'}, inplace=True)\n",
    "    df_Work.to_csv(f'Work_{name}.csv')\n",
    "    \n",
    "    df_Home = df.groupby(by=\"BLOCKGROUP_home\").count().reset_index()[['BLOCKGROUP_home', 'person_id']]\n",
    "    df_Home.rename(columns={'BLOCKGROUP_home': 'FIPS', 'person_id': 'Home_Pop'}, inplace=True)\n",
    "    df_Home.to_csv(f'Home_{name}.csv')"
   ]
  },
  {
   "cell_type": "code",
   "execution_count": null,
   "id": "deaac192",
   "metadata": {},
   "outputs": [],
   "source": []
  }
 ],
 "metadata": {
  "kernelspec": {
   "display_name": "Python 3 (ipykernel)",
   "language": "python",
   "name": "python3"
  },
  "language_info": {
   "codemirror_mode": {
    "name": "ipython",
    "version": 3
   },
   "file_extension": ".py",
   "mimetype": "text/x-python",
   "name": "python",
   "nbconvert_exporter": "python",
   "pygments_lexer": "ipython3",
   "version": "3.9.7"
  }
 },
 "nbformat": 4,
 "nbformat_minor": 5
}
